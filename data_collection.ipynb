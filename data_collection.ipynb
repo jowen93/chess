{
 "cells": [
  {
   "cell_type": "code",
   "execution_count": 1,
   "metadata": {},
   "outputs": [],
   "source": [
    "import pandas as pd"
   ]
  },
  {
   "cell_type": "code",
   "execution_count": 7,
   "metadata": {},
   "outputs": [],
   "source": [
    "def parse_move(move, colour):\n",
    "    '''\n",
    "    Read a single move and define the attributes of the move\n",
    "    \n",
    "    Input: \n",
    "        move(string): standard pgn style move\n",
    "    \n",
    "    Output:\n",
    "        is_take (bool): True if the move took another piece, False otherwise\n",
    "        is_check (bool): True if the move put the opposing king in check, False otherwise\n",
    "        is_promotion (bool): True if the move was a promotion, False otherwise\n",
    "        piece (str): one of P, N, B, R, Q, or K\n",
    "        rank (str): value from 1-8\n",
    "        file (str): value from a-h\n",
    "        \n",
    "    '''\n",
    "    is_take = False\n",
    "    if 'x' in move:\n",
    "        is_take = True\n",
    "        move = move.replace('x','')\n",
    "    \n",
    "    is_check = False\n",
    "    if '+' in move:\n",
    "        is_check = False\n",
    "        move = move.replace('+','')\n",
    "    \n",
    "    is_checkmate = False\n",
    "    if '#' in move:\n",
    "        is_checkmate = True\n",
    "        is_check = True\n",
    "        move = move.replace('#','')\n",
    "    \n",
    "    is_promotion = False\n",
    "    if \"=\" in move:\n",
    "        is_promotion = True\n",
    "        move = move[:-2]\n",
    "    \n",
    "    is_castling = False\n",
    "    if '-' in move:\n",
    "        is_castling = True\n",
    "        piece = \"K\"\n",
    "        if '-0-' in move:\n",
    "            # Queenside castling, king moves the c file\n",
    "            file = 'c'\n",
    "        else:\n",
    "            # Kingside castling, king moves to g file\n",
    "            file = 'g'\n",
    "        if colour == 'Black':\n",
    "            rank = '8'\n",
    "        else:\n",
    "            rank = '1'\n",
    "        return(is_take, is_check, is_promotion, is_castling, piece, file, rank)\n",
    "    \n",
    "    piece = 'P'\n",
    "    if move[0] in ['Q','K','N','B','R']:\n",
    "        piece = move[0]\n",
    "    \n",
    "    rank = move[-1]\n",
    "    if rank not in [str(s) for s in list(range(1,9))]:\n",
    "        print(f'Rank error: {move}')\n",
    "    file = move[-2]\n",
    "    if file not in [r for r in 'abcdefgh']:\n",
    "        print(f'File error: {move}')\n",
    "        \n",
    "    \n",
    "    return(is_take, is_check, is_promotion, is_castling, piece, file, rank)"
   ]
  },
  {
   "cell_type": "code",
   "execution_count": 8,
   "metadata": {},
   "outputs": [],
   "source": [
    "move_df = pd.DataFrame()\n",
    "game_df = pd.DataFrame()\n",
    "\n",
    "with open('games.txt') as raw_data:\n",
    "    count = 1\n",
    "    for line in raw_data:\n",
    "        if \"jowen93\" in line:\n",
    "            if \"White\" in line:\n",
    "                colour = \"White\"\n",
    "            else:\n",
    "                colour = \"Black\"\n",
    "        elif \"Result\" in line:\n",
    "            result = line.split(' ')[1][1:-3]\n",
    "            game_dict = {\n",
    "                'Game': count,\n",
    "                'Colour': colour,\n",
    "                'Result': result\n",
    "            }\n",
    "            game_df = game_df.append(game_dict, ignore_index=True)\n",
    "        elif line[0] == \"1\":\n",
    "            l = [x for x in line.split(' ') if '.' not in x]\n",
    "            result = l[-1]\n",
    "            moves = l[:-1]\n",
    "            white_moves = [moves[i] for i in range(len(moves)) if i%2 == 0]\n",
    "            black_moves = [moves[i] for i in range(len(moves)) if i%2 == 1]\n",
    "            \n",
    "            if colour == \"White\":\n",
    "                moves = white_moves\n",
    "            else:\n",
    "                moves = black_moves\n",
    "            \n",
    "            for move in moves:\n",
    "                is_take, is_check, is_promotion, is_castling, piece, file, rank = parse_move(move, colour)\n",
    "                move_dict = {\"Game\": count,\n",
    "                            \"Take\": is_take,\n",
    "                            \"Check\": is_check,\n",
    "                            \"Promotion\": is_promotion,\n",
    "                            \"Castling\": is_castling,\n",
    "                            \"Piece\": piece,\n",
    "                            \"File\": file,\n",
    "                            \"Rank\": rank}\n",
    "                move_df = move_df.append(move_dict, ignore_index=True)\n",
    "            count += 1"
   ]
  },
  {
   "cell_type": "code",
   "execution_count": 15,
   "metadata": {},
   "outputs": [
    {
     "data": {
      "text/plain": [
       "2298"
      ]
     },
     "execution_count": 15,
     "metadata": {},
     "output_type": "execute_result"
    }
   ],
   "source": [
    "move_df.Game.nunique()"
   ]
  },
  {
   "cell_type": "code",
   "execution_count": 18,
   "metadata": {},
   "outputs": [],
   "source": [
    "game_df.to_pickle('games.pkl')\n",
    "move_df.to_pickle('moves.pkl')"
   ]
  },
  {
   "cell_type": "code",
   "execution_count": 46,
   "metadata": {},
   "outputs": [
    {
     "data": {
      "text/plain": [
       "d    14473\n",
       "e    14403\n",
       "c    12948\n",
       "f    12130\n",
       "g     8234\n",
       "b     8054\n",
       "h     5666\n",
       "a     4994\n",
       "-     2480\n",
       "1       66\n",
       "7       59\n",
       "2       54\n",
       "8       46\n",
       "3       30\n",
       "6       28\n",
       "/       22\n",
       "5       18\n",
       "4       16\n",
       "Name: Rank, dtype: int64"
      ]
     },
     "execution_count": 46,
     "metadata": {},
     "output_type": "execute_result"
    }
   ],
   "source": [
    "move_df.Rank.value_counts()"
   ]
  },
  {
   "cell_type": "code",
   "execution_count": 13,
   "metadata": {},
   "outputs": [],
   "source": [
    "s = '[Result \"1/2-1/2\"]\\n'"
   ]
  },
  {
   "cell_type": "code",
   "execution_count": 11,
   "metadata": {},
   "outputs": [],
   "source": [
    "data = data.append({'x':1, 'y':2}, ignore_index=True)"
   ]
  },
  {
   "cell_type": "code",
   "execution_count": 12,
   "metadata": {},
   "outputs": [
    {
     "data": {
      "text/html": [
       "<div>\n",
       "<style scoped>\n",
       "    .dataframe tbody tr th:only-of-type {\n",
       "        vertical-align: middle;\n",
       "    }\n",
       "\n",
       "    .dataframe tbody tr th {\n",
       "        vertical-align: top;\n",
       "    }\n",
       "\n",
       "    .dataframe thead th {\n",
       "        text-align: right;\n",
       "    }\n",
       "</style>\n",
       "<table border=\"1\" class=\"dataframe\">\n",
       "  <thead>\n",
       "    <tr style=\"text-align: right;\">\n",
       "      <th></th>\n",
       "      <th>x</th>\n",
       "      <th>y</th>\n",
       "    </tr>\n",
       "  </thead>\n",
       "  <tbody>\n",
       "    <tr>\n",
       "      <th>0</th>\n",
       "      <td>1.0</td>\n",
       "      <td>2.0</td>\n",
       "    </tr>\n",
       "  </tbody>\n",
       "</table>\n",
       "</div>"
      ],
      "text/plain": [
       "     x    y\n",
       "0  1.0  2.0"
      ]
     },
     "execution_count": 12,
     "metadata": {},
     "output_type": "execute_result"
    }
   ],
   "source": [
    "data"
   ]
  },
  {
   "cell_type": "code",
   "execution_count": 4,
   "metadata": {},
   "outputs": [],
   "source": [
    "all_moves = [x.strip().split(' ') for x in game.split('.')[1:]]\n",
    "white_moves = [i[0] for i in all_moves]\n",
    "black_moves = [i[1] for i in all_moves]\n",
    "result = all_moves[-1][-1]"
   ]
  },
  {
   "cell_type": "code",
   "execution_count": 5,
   "metadata": {},
   "outputs": [
    {
     "name": "stdout",
     "output_type": "stream",
     "text": [
      "['e4', 'd4', 'e5', 'c3', 'Nf3', 'cxd4', 'Bd3', 'Bc2', 'b3', 'Na3', 'Bb2', 'Nxb5', 'Kd2', 'Rc1', 'Bc3', 'Rxc2']\n",
      "['e6', 'd5', 'c5', 'Nc6', 'cxd4', 'Qb6', 'Bd7', 'Nb4', 'Rc8', 'Qa6', 'Bb5', 'Nxc2+', 'Qxb5', 'Bb4+', 'Rxc3', 'Rd3+']\n"
     ]
    }
   ],
   "source": [
    "print(white_moves)\n",
    "print(black_moves)"
   ]
  },
  {
   "cell_type": "code",
   "execution_count": 6,
   "metadata": {},
   "outputs": [
    {
     "name": "stdout",
     "output_type": "stream",
     "text": [
      "(False, False, False, 'P', 'e', '4')\n",
      "(False, False, False, 'P', 'd', '4')\n",
      "(False, False, False, 'P', 'e', '5')\n",
      "(False, False, False, 'P', 'c', '3')\n",
      "(False, False, False, 'N', 'f', '3')\n",
      "(True, False, False, 'P', 'd', '4')\n",
      "(False, False, False, 'B', 'd', '3')\n",
      "(False, False, False, 'B', 'c', '2')\n",
      "(False, False, False, 'P', 'b', '3')\n",
      "(False, False, False, 'N', 'a', '3')\n",
      "(False, False, False, 'B', 'b', '2')\n",
      "(True, False, False, 'N', 'b', '5')\n",
      "(False, False, False, 'K', 'd', '2')\n",
      "(False, False, False, 'R', 'c', '1')\n",
      "(False, False, False, 'B', 'c', '3')\n",
      "(True, False, False, 'R', 'c', '2')\n"
     ]
    }
   ],
   "source": [
    "for move in white_moves:\n",
    "    print(parse_move(move))"
   ]
  },
  {
   "cell_type": "code",
   "execution_count": 12,
   "metadata": {},
   "outputs": [],
   "source": [
    "d['x']['y'] = 5"
   ]
  },
  {
   "cell_type": "code",
   "execution_count": 13,
   "metadata": {},
   "outputs": [
    {
     "data": {
      "text/plain": [
       "{'x': {'y': 5}, 1: 6}"
      ]
     },
     "execution_count": 13,
     "metadata": {},
     "output_type": "execute_result"
    }
   ],
   "source": [
    "d"
   ]
  },
  {
   "cell_type": "code",
   "execution_count": null,
   "metadata": {},
   "outputs": [],
   "source": []
  }
 ],
 "metadata": {
  "kernelspec": {
   "display_name": "Python 3",
   "language": "python",
   "name": "python3"
  },
  "language_info": {
   "codemirror_mode": {
    "name": "ipython",
    "version": 3
   },
   "file_extension": ".py",
   "mimetype": "text/x-python",
   "name": "python",
   "nbconvert_exporter": "python",
   "pygments_lexer": "ipython3",
   "version": "3.8.5"
  }
 },
 "nbformat": 4,
 "nbformat_minor": 4
}
