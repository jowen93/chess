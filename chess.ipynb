{
 "cells": [
  {
   "cell_type": "code",
   "execution_count": 1,
   "metadata": {},
   "outputs": [
    {
     "name": "stdout",
     "output_type": "stream",
     "text": [
      "Collecting chess\n",
      "  Using cached chess-1.4.0-py3-none-any.whl (141 kB)\n",
      "Installing collected packages: chess\n",
      "Successfully installed chess-1.4.0\n"
     ]
    }
   ],
   "source": [
    "!pip install chess"
   ]
  },
  {
   "cell_type": "code",
   "execution_count": 2,
   "metadata": {},
   "outputs": [],
   "source": [
    "import pandas as pd\n",
    "import numpy as np\n",
    "import matplotlib.pyplot as plt"
   ]
  },
  {
   "cell_type": "code",
   "execution_count": 3,
   "metadata": {},
   "outputs": [],
   "source": [
    "import chess.pgn"
   ]
  },
  {
   "cell_type": "code",
   "execution_count": 4,
   "metadata": {},
   "outputs": [],
   "source": [
    "pgn = open(\"games.pgn\")"
   ]
  },
  {
   "cell_type": "code",
   "execution_count": 5,
   "metadata": {},
   "outputs": [],
   "source": [
    "l = []\n",
    "while True:\n",
    "    game = chess.pgn.read_game(pgn)\n",
    "    if game is None:\n",
    "        break\n",
    "    l.append(game)"
   ]
  },
  {
   "cell_type": "code",
   "execution_count": 6,
   "metadata": {},
   "outputs": [],
   "source": [
    "rated = [x for x in l if 'Casual' not in x.headers['Event']]"
   ]
  },
  {
   "cell_type": "code",
   "execution_count": 7,
   "metadata": {},
   "outputs": [],
   "source": [
    "game_lengths = pd.read_csv('Game_Lengths.csv')"
   ]
  },
  {
   "cell_type": "code",
   "execution_count": 8,
   "metadata": {},
   "outputs": [],
   "source": [
    "tmp = game_lengths.head(10)\n",
    "tmp = tmp.drop([5])"
   ]
  },
  {
   "cell_type": "code",
   "execution_count": 9,
   "metadata": {},
   "outputs": [],
   "source": [
    "gl = game_lengths.Game.reindex(range(2309), fill_value=0)"
   ]
  },
  {
   "cell_type": "code",
   "execution_count": 10,
   "metadata": {},
   "outputs": [],
   "source": [
    "all_game_data = pd.DataFrame({\"White\":[game.headers['White'] for game in rated],\n",
    "                              \"Black\":[game.headers['Black'] for game in rated],\n",
    "                              \"WhiteElo\":[game.headers['WhiteElo'] for game in rated],\n",
    "                              \"BlackElo\":[game.headers['BlackElo'] for game in rated],\n",
    "                              \"Result\":[game.headers['Result'] for game in rated],\n",
    "                              \"Time Control\":[game.headers['TimeControl'] for game in rated],\n",
    "                              \"Date\":[game.headers['Date'] for game in rated],\n",
    "                              \"WhiteRatingDiff\":[game.headers['WhiteRatingDiff'] for game in rated],\n",
    "                              \"BlackRatingDiff\":[game.headers['BlackRatingDiff'] for game in rated],\n",
    "                              \"Termination\":[game.headers['Termination'] for game in rated],\n",
    "                              \"Game Length\":gl.values})"
   ]
  },
  {
   "cell_type": "code",
   "execution_count": 11,
   "metadata": {},
   "outputs": [
    {
     "data": {
      "text/html": [
       "<div>\n",
       "<style scoped>\n",
       "    .dataframe tbody tr th:only-of-type {\n",
       "        vertical-align: middle;\n",
       "    }\n",
       "\n",
       "    .dataframe tbody tr th {\n",
       "        vertical-align: top;\n",
       "    }\n",
       "\n",
       "    .dataframe thead th {\n",
       "        text-align: right;\n",
       "    }\n",
       "</style>\n",
       "<table border=\"1\" class=\"dataframe\">\n",
       "  <thead>\n",
       "    <tr style=\"text-align: right;\">\n",
       "      <th></th>\n",
       "      <th>White</th>\n",
       "      <th>Black</th>\n",
       "      <th>WhiteElo</th>\n",
       "      <th>BlackElo</th>\n",
       "      <th>Result</th>\n",
       "      <th>Time Control</th>\n",
       "      <th>Date</th>\n",
       "      <th>WhiteRatingDiff</th>\n",
       "      <th>BlackRatingDiff</th>\n",
       "      <th>Termination</th>\n",
       "      <th>Game Length</th>\n",
       "    </tr>\n",
       "  </thead>\n",
       "  <tbody>\n",
       "    <tr>\n",
       "      <th>0</th>\n",
       "      <td>jowen93</td>\n",
       "      <td>misappp</td>\n",
       "      <td>1570</td>\n",
       "      <td>1608</td>\n",
       "      <td>0-1</td>\n",
       "      <td>120+1</td>\n",
       "      <td>2021.01.10</td>\n",
       "      <td>-6</td>\n",
       "      <td>+5</td>\n",
       "      <td>Normal</td>\n",
       "      <td>26</td>\n",
       "    </tr>\n",
       "    <tr>\n",
       "      <th>1</th>\n",
       "      <td>stockfishing</td>\n",
       "      <td>jowen93</td>\n",
       "      <td>1606</td>\n",
       "      <td>1563</td>\n",
       "      <td>0-1</td>\n",
       "      <td>120+1</td>\n",
       "      <td>2021.01.08</td>\n",
       "      <td>-6</td>\n",
       "      <td>+7</td>\n",
       "      <td>Normal</td>\n",
       "      <td>25</td>\n",
       "    </tr>\n",
       "    <tr>\n",
       "      <th>2</th>\n",
       "      <td>Sapog_62</td>\n",
       "      <td>jowen93</td>\n",
       "      <td>1572</td>\n",
       "      <td>1562</td>\n",
       "      <td>1/2-1/2</td>\n",
       "      <td>120+1</td>\n",
       "      <td>2021.01.08</td>\n",
       "      <td>+0</td>\n",
       "      <td>+1</td>\n",
       "      <td>Normal</td>\n",
       "      <td>59</td>\n",
       "    </tr>\n",
       "    <tr>\n",
       "      <th>3</th>\n",
       "      <td>jowen93</td>\n",
       "      <td>Octaviorl888</td>\n",
       "      <td>1568</td>\n",
       "      <td>1636</td>\n",
       "      <td>0-1</td>\n",
       "      <td>120+1</td>\n",
       "      <td>2021.01.08</td>\n",
       "      <td>-6</td>\n",
       "      <td>+6</td>\n",
       "      <td>Time forfeit</td>\n",
       "      <td>28</td>\n",
       "    </tr>\n",
       "    <tr>\n",
       "      <th>4</th>\n",
       "      <td>farmer1962rt</td>\n",
       "      <td>jowen93</td>\n",
       "      <td>1571</td>\n",
       "      <td>1561</td>\n",
       "      <td>0-1</td>\n",
       "      <td>120+1</td>\n",
       "      <td>2021.01.07</td>\n",
       "      <td>-6</td>\n",
       "      <td>+7</td>\n",
       "      <td>Time forfeit</td>\n",
       "      <td>28</td>\n",
       "    </tr>\n",
       "  </tbody>\n",
       "</table>\n",
       "</div>"
      ],
      "text/plain": [
       "          White         Black WhiteElo BlackElo   Result Time Control  \\\n",
       "0       jowen93       misappp     1570     1608      0-1        120+1   \n",
       "1  stockfishing       jowen93     1606     1563      0-1        120+1   \n",
       "2      Sapog_62       jowen93     1572     1562  1/2-1/2        120+1   \n",
       "3       jowen93  Octaviorl888     1568     1636      0-1        120+1   \n",
       "4  farmer1962rt       jowen93     1571     1561      0-1        120+1   \n",
       "\n",
       "         Date WhiteRatingDiff BlackRatingDiff   Termination  Game Length  \n",
       "0  2021.01.10              -6              +5        Normal           26  \n",
       "1  2021.01.08              -6              +7        Normal           25  \n",
       "2  2021.01.08              +0              +1        Normal           59  \n",
       "3  2021.01.08              -6              +6  Time forfeit           28  \n",
       "4  2021.01.07              -6              +7  Time forfeit           28  "
      ]
     },
     "execution_count": 11,
     "metadata": {},
     "output_type": "execute_result"
    }
   ],
   "source": [
    "all_game_data.head()"
   ]
  },
  {
   "cell_type": "code",
   "execution_count": 12,
   "metadata": {},
   "outputs": [],
   "source": [
    "normal = all_game_data.loc[all_game_data['Termination'] == \"Normal\"]\n",
    "forfeit = all_game_data.loc[all_game_data['Termination'] == \"Time forfeit\"]"
   ]
  },
  {
   "cell_type": "code",
   "execution_count": 13,
   "metadata": {},
   "outputs": [
    {
     "name": "stdout",
     "output_type": "stream",
     "text": [
      "36.37936046511628\n",
      "14.733636319077194\n",
      "35.82070707070707\n",
      "15.22659094787546\n"
     ]
    }
   ],
   "source": [
    "print(forfeit['Game Length'].mean())\n",
    "print(forfeit['Game Length'].std())\n",
    "print(normal['Game Length'].mean())\n",
    "print(normal['Game Length'].std())"
   ]
  },
  {
   "cell_type": "code",
   "execution_count": 57,
   "metadata": {},
   "outputs": [],
   "source": [
    "def my_colour(username):\n",
    "    if username == \"jowen93\":\n",
    "        return \"White\"\n",
    "    return \"Black\"\n",
    "all_game_data['My Colour'] = all_game_data.White.apply(lambda x: my_colour(x))"
   ]
  },
  {
   "cell_type": "code",
   "execution_count": 58,
   "metadata": {},
   "outputs": [],
   "source": [
    "all_game_data['My Rating'] = np.where(all_game_data['My Colour'] == \"White\",\n",
    "                                      all_game_data['WhiteElo'],\n",
    "                                      all_game_data['BlackElo'])"
   ]
  },
  {
   "cell_type": "code",
   "execution_count": 59,
   "metadata": {},
   "outputs": [],
   "source": [
    "all_game_data['My Rating Change'] = np.where(all_game_data['My Colour'] == \"White\",\n",
    "                                      all_game_data['WhiteRatingDiff'],\n",
    "                                      all_game_data['BlackRatingDiff'])"
   ]
  },
  {
   "cell_type": "code",
   "execution_count": 60,
   "metadata": {},
   "outputs": [],
   "source": [
    "all_game_data = all_game_data.loc[~(all_game_data['Time Control'] == '-')]"
   ]
  },
  {
   "cell_type": "code",
   "execution_count": 61,
   "metadata": {},
   "outputs": [],
   "source": [
    "time_controls = all_game_data['Time Control'].unique()"
   ]
  },
  {
   "cell_type": "code",
   "execution_count": 62,
   "metadata": {},
   "outputs": [],
   "source": [
    "readable_tc = [\"Bullet\" if i < 180 else \"Blitz\" if i<600 else \"Rapid\" for i in \n",
    "               [int(i.split('+')[0]) for i in time_controls]]"
   ]
  },
  {
   "cell_type": "code",
   "execution_count": 63,
   "metadata": {},
   "outputs": [],
   "source": [
    "d = dict(zip(time_controls, readable_tc))"
   ]
  },
  {
   "cell_type": "code",
   "execution_count": 64,
   "metadata": {},
   "outputs": [],
   "source": [
    "all_game_data['Type'] = all_game_data['Time Control'].apply(lambda x: d[x])"
   ]
  },
  {
   "cell_type": "code",
   "execution_count": 65,
   "metadata": {},
   "outputs": [],
   "source": [
    "all_game_data['My Rating Change'] = all_game_data['My Rating Change'].astype('int')"
   ]
  },
  {
   "cell_type": "code",
   "execution_count": 66,
   "metadata": {},
   "outputs": [
    {
     "data": {
      "text/html": [
       "<div>\n",
       "<style scoped>\n",
       "    .dataframe tbody tr th:only-of-type {\n",
       "        vertical-align: middle;\n",
       "    }\n",
       "\n",
       "    .dataframe tbody tr th {\n",
       "        vertical-align: top;\n",
       "    }\n",
       "\n",
       "    .dataframe thead th {\n",
       "        text-align: right;\n",
       "    }\n",
       "</style>\n",
       "<table border=\"1\" class=\"dataframe\">\n",
       "  <thead>\n",
       "    <tr style=\"text-align: right;\">\n",
       "      <th></th>\n",
       "      <th>White</th>\n",
       "      <th>Black</th>\n",
       "      <th>WhiteElo</th>\n",
       "      <th>BlackElo</th>\n",
       "      <th>Result</th>\n",
       "      <th>Time Control</th>\n",
       "      <th>Date</th>\n",
       "      <th>WhiteRatingDiff</th>\n",
       "      <th>BlackRatingDiff</th>\n",
       "      <th>Termination</th>\n",
       "      <th>Game Length</th>\n",
       "      <th>My Colour</th>\n",
       "      <th>My Rating</th>\n",
       "      <th>My Rating Change</th>\n",
       "      <th>Type</th>\n",
       "    </tr>\n",
       "  </thead>\n",
       "  <tbody>\n",
       "    <tr>\n",
       "      <th>0</th>\n",
       "      <td>jowen93</td>\n",
       "      <td>misappp</td>\n",
       "      <td>1570</td>\n",
       "      <td>1608</td>\n",
       "      <td>0-1</td>\n",
       "      <td>120+1</td>\n",
       "      <td>2021.01.10</td>\n",
       "      <td>-6</td>\n",
       "      <td>+5</td>\n",
       "      <td>Normal</td>\n",
       "      <td>26</td>\n",
       "      <td>White</td>\n",
       "      <td>1570</td>\n",
       "      <td>-6</td>\n",
       "      <td>Bullet</td>\n",
       "    </tr>\n",
       "    <tr>\n",
       "      <th>1</th>\n",
       "      <td>stockfishing</td>\n",
       "      <td>jowen93</td>\n",
       "      <td>1606</td>\n",
       "      <td>1563</td>\n",
       "      <td>0-1</td>\n",
       "      <td>120+1</td>\n",
       "      <td>2021.01.08</td>\n",
       "      <td>-6</td>\n",
       "      <td>+7</td>\n",
       "      <td>Normal</td>\n",
       "      <td>25</td>\n",
       "      <td>Black</td>\n",
       "      <td>1563</td>\n",
       "      <td>7</td>\n",
       "      <td>Bullet</td>\n",
       "    </tr>\n",
       "    <tr>\n",
       "      <th>2</th>\n",
       "      <td>Sapog_62</td>\n",
       "      <td>jowen93</td>\n",
       "      <td>1572</td>\n",
       "      <td>1562</td>\n",
       "      <td>1/2-1/2</td>\n",
       "      <td>120+1</td>\n",
       "      <td>2021.01.08</td>\n",
       "      <td>+0</td>\n",
       "      <td>+1</td>\n",
       "      <td>Normal</td>\n",
       "      <td>59</td>\n",
       "      <td>Black</td>\n",
       "      <td>1562</td>\n",
       "      <td>1</td>\n",
       "      <td>Bullet</td>\n",
       "    </tr>\n",
       "    <tr>\n",
       "      <th>3</th>\n",
       "      <td>jowen93</td>\n",
       "      <td>Octaviorl888</td>\n",
       "      <td>1568</td>\n",
       "      <td>1636</td>\n",
       "      <td>0-1</td>\n",
       "      <td>120+1</td>\n",
       "      <td>2021.01.08</td>\n",
       "      <td>-6</td>\n",
       "      <td>+6</td>\n",
       "      <td>Time forfeit</td>\n",
       "      <td>28</td>\n",
       "      <td>White</td>\n",
       "      <td>1568</td>\n",
       "      <td>-6</td>\n",
       "      <td>Bullet</td>\n",
       "    </tr>\n",
       "    <tr>\n",
       "      <th>4</th>\n",
       "      <td>farmer1962rt</td>\n",
       "      <td>jowen93</td>\n",
       "      <td>1571</td>\n",
       "      <td>1561</td>\n",
       "      <td>0-1</td>\n",
       "      <td>120+1</td>\n",
       "      <td>2021.01.07</td>\n",
       "      <td>-6</td>\n",
       "      <td>+7</td>\n",
       "      <td>Time forfeit</td>\n",
       "      <td>28</td>\n",
       "      <td>Black</td>\n",
       "      <td>1561</td>\n",
       "      <td>7</td>\n",
       "      <td>Bullet</td>\n",
       "    </tr>\n",
       "  </tbody>\n",
       "</table>\n",
       "</div>"
      ],
      "text/plain": [
       "          White         Black WhiteElo BlackElo   Result Time Control  \\\n",
       "0       jowen93       misappp     1570     1608      0-1        120+1   \n",
       "1  stockfishing       jowen93     1606     1563      0-1        120+1   \n",
       "2      Sapog_62       jowen93     1572     1562  1/2-1/2        120+1   \n",
       "3       jowen93  Octaviorl888     1568     1636      0-1        120+1   \n",
       "4  farmer1962rt       jowen93     1571     1561      0-1        120+1   \n",
       "\n",
       "         Date WhiteRatingDiff BlackRatingDiff   Termination  Game Length  \\\n",
       "0  2021.01.10              -6              +5        Normal           26   \n",
       "1  2021.01.08              -6              +7        Normal           25   \n",
       "2  2021.01.08              +0              +1        Normal           59   \n",
       "3  2021.01.08              -6              +6  Time forfeit           28   \n",
       "4  2021.01.07              -6              +7  Time forfeit           28   \n",
       "\n",
       "  My Colour My Rating  My Rating Change    Type  \n",
       "0     White      1570                -6  Bullet  \n",
       "1     Black      1563                 7  Bullet  \n",
       "2     Black      1562                 1  Bullet  \n",
       "3     White      1568                -6  Bullet  \n",
       "4     Black      1561                 7  Bullet  "
      ]
     },
     "execution_count": 66,
     "metadata": {},
     "output_type": "execute_result"
    }
   ],
   "source": [
    "all_game_data.head()"
   ]
  },
  {
   "cell_type": "code",
   "execution_count": 73,
   "metadata": {},
   "outputs": [],
   "source": [
    "all_game_data['Opp. Rating'] = np.where(all_game_data['White'] == \"jowen93\",\n",
    "                                        all_game_data['BlackElo'],\n",
    "                                        all_game_data['WhiteElo'])"
   ]
  },
  {
   "cell_type": "code",
   "execution_count": 67,
   "metadata": {},
   "outputs": [],
   "source": [
    "all_game_data.Date = pd.to_datetime(all_game_data.Date)"
   ]
  },
  {
   "cell_type": "code",
   "execution_count": 74,
   "metadata": {},
   "outputs": [],
   "source": [
    "all_game_data = all_game_data.sort_values(by='Date')"
   ]
  },
  {
   "cell_type": "code",
   "execution_count": 69,
   "metadata": {},
   "outputs": [
    {
     "data": {
      "text/plain": [
       "[<matplotlib.lines.Line2D at 0x7f0b225394c0>]"
      ]
     },
     "execution_count": 69,
     "metadata": {},
     "output_type": "execute_result"
    },
    {
     "data": {
      "image/png": "[encoded data removed]",
      "text/plain": [
       "<Figure size 432x288 with 1 Axes>"
      ]
     },
     "metadata": {
      "needs_background": "light"
     },
     "output_type": "display_data"
    }
   ],
   "source": [
    "bullet = all_game_data.loc[all_game_data.Type == 'Bullet']\n",
    "bullet = bullet.set_index('Date')\n",
    "bullet['My Rating'] = bullet['My Rating'].astype('int')\n",
    "bullet_ratings = bullet['My Rating'].resample('7D').mean().ffill()\n",
    "\n",
    "plt.plot(bullet_ratings)"
   ]
  },
  {
   "cell_type": "code",
   "execution_count": 70,
   "metadata": {},
   "outputs": [
    {
     "data": {
      "text/plain": [
       "[<matplotlib.lines.Line2D at 0x7f0b223ed970>]"
      ]
     },
     "execution_count": 70,
     "metadata": {},
     "output_type": "execute_result"
    },
    {
     "data": {
      "image/png": "[encoded data removed]",
      "text/plain": [
       "<Figure size 432x288 with 1 Axes>"
      ]
     },
     "metadata": {
      "needs_background": "light"
     },
     "output_type": "display_data"
    }
   ],
   "source": [
    "blitz = all_game_data.loc[all_game_data.Type == 'Blitz']\n",
    "blitz = blitz.set_index('Date')\n",
    "blitz['My Rating'] = blitz['My Rating'].astype('int')\n",
    "blitz_ratings = blitz['My Rating'].resample('1D').mean().ffill()\n",
    "\n",
    "plt.plot(blitz_ratings)"
   ]
  },
  {
   "cell_type": "code",
   "execution_count": 71,
   "metadata": {},
   "outputs": [
    {
     "data": {
      "text/plain": [
       "[<matplotlib.lines.Line2D at 0x7f0b223b4310>]"
      ]
     },
     "execution_count": 71,
     "metadata": {},
     "output_type": "execute_result"
    },
    {
     "data": {
      "image/png": "[encoded data removed]",
      "text/plain": [
       "<Figure size 432x288 with 1 Axes>"
      ]
     },
     "metadata": {
      "needs_background": "light"
     },
     "output_type": "display_data"
    }
   ],
   "source": [
    "rapid = all_game_data.loc[all_game_data.Type == 'Rapid']\n",
    "rapid = rapid.set_index('Date')\n",
    "rapid['My Rating'] = rapid['My Rating'].astype('int')\n",
    "rapid_ratings = rapid['My Rating'].resample('1D').mean().ffill()\n",
    "\n",
    "plt.plot(rapid_ratings)"
   ]
  },
  {
   "cell_type": "code",
   "execution_count": 72,
   "metadata": {},
   "outputs": [],
   "source": [
    "all_ratings = pd.DataFrame({'bullet': bullet_ratings, 'blitz': blitz_ratings, 'rapid':rapid_ratings}).ffill().bfill()"
   ]
  },
  {
   "cell_type": "code",
   "execution_count": 73,
   "metadata": {},
   "outputs": [],
   "source": [
    "all_ratings = all_ratings.reset_index()"
   ]
  },
  {
   "cell_type": "code",
   "execution_count": 74,
   "metadata": {},
   "outputs": [],
   "source": [
    "all_ratings.to_csv('all_ratings.csv')"
   ]
  },
  {
   "cell_type": "code",
   "execution_count": 76,
   "metadata": {},
   "outputs": [],
   "source": [
    "all_game_data.to_csv('all_games.csv')"
   ]
  },
  {
   "cell_type": "code",
   "execution_count": 38,
   "metadata": {},
   "outputs": [],
   "source": [
    "blitz_rating_change = all_game_data.loc[all_game_data['Type'] == \"Blitz\"][['Date', 'My Rating Change']].set_index('Date').resample('1D').mean().fillna(0)\n",
    "bullet_rating_change = all_game_data.loc[all_game_data['Type'] == \"Bullet\"][['Date', 'My Rating Change']].set_index('Date').resample('1D').mean().fillna(0)\n",
    "rapid_rating_change = all_game_data.loc[all_game_data['Type'] == \"Rapid\"][['Date', 'My Rating Change']].set_index('Date').resample('1D').mean().fillna(0)"
   ]
  },
  {
   "cell_type": "code",
   "execution_count": 75,
   "metadata": {},
   "outputs": [
    {
     "data": {
      "text/html": [
       "<div>\n",
       "<style scoped>\n",
       "    .dataframe tbody tr th:only-of-type {\n",
       "        vertical-align: middle;\n",
       "    }\n",
       "\n",
       "    .dataframe tbody tr th {\n",
       "        vertical-align: top;\n",
       "    }\n",
       "\n",
       "    .dataframe thead th {\n",
       "        text-align: right;\n",
       "    }\n",
       "</style>\n",
       "<table border=\"1\" class=\"dataframe\">\n",
       "  <thead>\n",
       "    <tr style=\"text-align: right;\">\n",
       "      <th></th>\n",
       "      <th>White</th>\n",
       "      <th>Black</th>\n",
       "      <th>WhiteElo</th>\n",
       "      <th>BlackElo</th>\n",
       "      <th>Result</th>\n",
       "      <th>Time Control</th>\n",
       "      <th>Date</th>\n",
       "      <th>WhiteRatingDiff</th>\n",
       "      <th>BlackRatingDiff</th>\n",
       "      <th>Termination</th>\n",
       "      <th>Game Length</th>\n",
       "      <th>My Colour</th>\n",
       "      <th>My Rating</th>\n",
       "      <th>My Rating Change</th>\n",
       "      <th>Type</th>\n",
       "      <th>Opp. Rating</th>\n",
       "    </tr>\n",
       "  </thead>\n",
       "  <tbody>\n",
       "    <tr>\n",
       "      <th>2308</th>\n",
       "      <td>jowen93</td>\n",
       "      <td>moisessantos</td>\n",
       "      <td>1500</td>\n",
       "      <td>1612</td>\n",
       "      <td>1-0</td>\n",
       "      <td>180+5</td>\n",
       "      <td>2016-05-08</td>\n",
       "      <td>+243</td>\n",
       "      <td>-9</td>\n",
       "      <td>Normal</td>\n",
       "      <td>0</td>\n",
       "      <td>White</td>\n",
       "      <td>1500</td>\n",
       "      <td>243</td>\n",
       "      <td>Blitz</td>\n",
       "      <td>1612</td>\n",
       "    </tr>\n",
       "    <tr>\n",
       "      <th>2304</th>\n",
       "      <td>jowen93</td>\n",
       "      <td>LifesaQueen</td>\n",
       "      <td>1661</td>\n",
       "      <td>1660</td>\n",
       "      <td>1/2-1/2</td>\n",
       "      <td>180+0</td>\n",
       "      <td>2016-05-08</td>\n",
       "      <td>+0</td>\n",
       "      <td>+0</td>\n",
       "      <td>Time forfeit</td>\n",
       "      <td>0</td>\n",
       "      <td>White</td>\n",
       "      <td>1661</td>\n",
       "      <td>0</td>\n",
       "      <td>Blitz</td>\n",
       "      <td>1660</td>\n",
       "    </tr>\n",
       "    <tr>\n",
       "      <th>2307</th>\n",
       "      <td>moisessantos</td>\n",
       "      <td>jowen93</td>\n",
       "      <td>1603</td>\n",
       "      <td>1743</td>\n",
       "      <td>1-0</td>\n",
       "      <td>180+5</td>\n",
       "      <td>2016-05-08</td>\n",
       "      <td>+12</td>\n",
       "      <td>-172</td>\n",
       "      <td>Time forfeit</td>\n",
       "      <td>0</td>\n",
       "      <td>Black</td>\n",
       "      <td>1743</td>\n",
       "      <td>-172</td>\n",
       "      <td>Blitz</td>\n",
       "      <td>1603</td>\n",
       "    </tr>\n",
       "    <tr>\n",
       "      <th>2306</th>\n",
       "      <td>sergio-sj-arg</td>\n",
       "      <td>jowen93</td>\n",
       "      <td>1414</td>\n",
       "      <td>1500</td>\n",
       "      <td>0-1</td>\n",
       "      <td>600+0</td>\n",
       "      <td>2016-05-08</td>\n",
       "      <td>-6</td>\n",
       "      <td>+144</td>\n",
       "      <td>Normal</td>\n",
       "      <td>0</td>\n",
       "      <td>Black</td>\n",
       "      <td>1500</td>\n",
       "      <td>144</td>\n",
       "      <td>Rapid</td>\n",
       "      <td>1414</td>\n",
       "    </tr>\n",
       "    <tr>\n",
       "      <th>2305</th>\n",
       "      <td>tigerofches2</td>\n",
       "      <td>jowen93</td>\n",
       "      <td>1553</td>\n",
       "      <td>1571</td>\n",
       "      <td>0-1</td>\n",
       "      <td>180+0</td>\n",
       "      <td>2016-05-08</td>\n",
       "      <td>-9</td>\n",
       "      <td>+90</td>\n",
       "      <td>Time forfeit</td>\n",
       "      <td>0</td>\n",
       "      <td>Black</td>\n",
       "      <td>1571</td>\n",
       "      <td>90</td>\n",
       "      <td>Blitz</td>\n",
       "      <td>1553</td>\n",
       "    </tr>\n",
       "  </tbody>\n",
       "</table>\n",
       "</div>"
      ],
      "text/plain": [
       "              White         Black WhiteElo BlackElo   Result Time Control  \\\n",
       "2308        jowen93  moisessantos     1500     1612      1-0        180+5   \n",
       "2304        jowen93   LifesaQueen     1661     1660  1/2-1/2        180+0   \n",
       "2307   moisessantos       jowen93     1603     1743      1-0        180+5   \n",
       "2306  sergio-sj-arg       jowen93     1414     1500      0-1        600+0   \n",
       "2305   tigerofches2       jowen93     1553     1571      0-1        180+0   \n",
       "\n",
       "           Date WhiteRatingDiff BlackRatingDiff   Termination  Game Length  \\\n",
       "2308 2016-05-08            +243              -9        Normal            0   \n",
       "2304 2016-05-08              +0              +0  Time forfeit            0   \n",
       "2307 2016-05-08             +12            -172  Time forfeit            0   \n",
       "2306 2016-05-08              -6            +144        Normal            0   \n",
       "2305 2016-05-08              -9             +90  Time forfeit            0   \n",
       "\n",
       "     My Colour My Rating  My Rating Change   Type Opp. Rating  \n",
       "2308     White      1500               243  Blitz        1612  \n",
       "2304     White      1661                 0  Blitz        1660  \n",
       "2307     Black      1743              -172  Blitz        1603  \n",
       "2306     Black      1500               144  Rapid        1414  \n",
       "2305     Black      1571                90  Blitz        1553  "
      ]
     },
     "execution_count": 75,
     "metadata": {},
     "output_type": "execute_result"
    }
   ],
   "source": [
    "all_game_data.head()"
   ]
  },
  {
   "cell_type": "code",
   "execution_count": null,
   "metadata": {},
   "outputs": [],
   "source": []
  }
 ],
 "metadata": {
  "kernelspec": {
   "display_name": "Python 3",
   "language": "python",
   "name": "python3"
  },
  "language_info": {
   "codemirror_mode": {
    "name": "ipython",
    "version": 3
   },
   "file_extension": ".py",
   "mimetype": "text/x-python",
   "name": "python",
   "nbconvert_exporter": "python",
   "pygments_lexer": "ipython3",
   "version": "3.8.5"
  }
 },
 "nbformat": 4,
 "nbformat_minor": 4
}
