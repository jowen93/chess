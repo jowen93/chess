{
 "cells": [
  {
   "cell_type": "code",
   "execution_count": 77,
   "metadata": {},
   "outputs": [],
   "source": [
    "import numpy as np\n",
    "import pandas as pd\n",
    "\n",
    "from sklearn.model_selection import GridSearchCV, train_test_split\n",
    "from sklearn.neighbors import KNeighborsClassifier\n",
    "from sklearn.naive_bayes import GaussianNB\n",
    "from sklearn.ensemble import GradientBoostingClassifier\n",
    "import sklearn.preprocessing as skp\n",
    "\n",
    "import matplotlib.pyplot as plt\n",
    "%matplotlib inline\n",
    "import seaborn as sns\n",
    "sns.set(style='white', color_codes=True, font_scale=1.3) "
   ]
  },
  {
   "cell_type": "code",
   "execution_count": 78,
   "metadata": {},
   "outputs": [],
   "source": [
    "games = pd.read_csv('all_games.csv')"
   ]
  },
  {
   "cell_type": "code",
   "execution_count": 79,
   "metadata": {},
   "outputs": [],
   "source": [
    "games = games.drop(['Unnamed: 0'], axis=1)"
   ]
  },
  {
   "cell_type": "markdown",
   "metadata": {},
   "source": [
    "We want to use the ratings, time control, and colour to predict whether I will win a game. So we need to do a tiny bit more data wrangling to obtain my opponents rating, then drop columns we won't need in the analysis."
   ]
  },
  {
   "cell_type": "code",
   "execution_count": 80,
   "metadata": {},
   "outputs": [],
   "source": [
    "games['Opp. Rating'] = np.where(games['My Colour'] == \"Black\",\n",
    "                                games['WhiteElo'],\n",
    "                                games['BlackElo'])"
   ]
  },
  {
   "cell_type": "code",
   "execution_count": 81,
   "metadata": {},
   "outputs": [
    {
     "name": "stderr",
     "output_type": "stream",
     "text": [
      "/opt/conda/lib/python3.8/site-packages/pandas/core/computation/expressions.py:68: FutureWarning: elementwise comparison failed; returning scalar instead, but in the future will perform elementwise comparison\n",
      "  return op(a, b)\n"
     ]
    }
   ],
   "source": [
    "games = games.loc[games['Opp. Rating'] != '?']"
   ]
  },
  {
   "cell_type": "code",
   "execution_count": 82,
   "metadata": {},
   "outputs": [],
   "source": [
    "games['Opp. Rating'] = games['Opp. Rating'].astype('int')"
   ]
  },
  {
   "cell_type": "code",
   "execution_count": 83,
   "metadata": {},
   "outputs": [],
   "source": [
    "games = games[['Result', 'My Colour', 'My Rating', 'Type', 'Opp. Rating']]"
   ]
  },
  {
   "cell_type": "code",
   "execution_count": 84,
   "metadata": {},
   "outputs": [],
   "source": [
    "d = {\"1-0\":\"White\", \"0-1\":\"Black\", \"1/2-1/2\":\"Draw\"}\n",
    "\n",
    "games['Winner'] = games['Result'].apply(lambda x: d[x])"
   ]
  },
  {
   "cell_type": "code",
   "execution_count": 85,
   "metadata": {},
   "outputs": [
    {
     "data": {
      "text/plain": [
       "White    1115\n",
       "Black    1106\n",
       "Draw       88\n",
       "Name: Winner, dtype: int64"
      ]
     },
     "execution_count": 85,
     "metadata": {},
     "output_type": "execute_result"
    }
   ],
   "source": [
    "games['Winner'].value_counts()"
   ]
  },
  {
   "cell_type": "code",
   "execution_count": 86,
   "metadata": {},
   "outputs": [],
   "source": [
    "games['Rating Difference'] = games['My Rating'] - games['Opp. Rating']"
   ]
  },
  {
   "cell_type": "code",
   "execution_count": 87,
   "metadata": {},
   "outputs": [
    {
     "data": {
      "text/html": [
       "<div>\n",
       "<style scoped>\n",
       "    .dataframe tbody tr th:only-of-type {\n",
       "        vertical-align: middle;\n",
       "    }\n",
       "\n",
       "    .dataframe tbody tr th {\n",
       "        vertical-align: top;\n",
       "    }\n",
       "\n",
       "    .dataframe thead th {\n",
       "        text-align: right;\n",
       "    }\n",
       "</style>\n",
       "<table border=\"1\" class=\"dataframe\">\n",
       "  <thead>\n",
       "    <tr style=\"text-align: right;\">\n",
       "      <th></th>\n",
       "      <th>Result</th>\n",
       "      <th>My Colour</th>\n",
       "      <th>My Rating</th>\n",
       "      <th>Type</th>\n",
       "      <th>Opp. Rating</th>\n",
       "      <th>Winner</th>\n",
       "      <th>Rating Difference</th>\n",
       "    </tr>\n",
       "  </thead>\n",
       "  <tbody>\n",
       "    <tr>\n",
       "      <th>1025</th>\n",
       "      <td>1-0</td>\n",
       "      <td>White</td>\n",
       "      <td>1504</td>\n",
       "      <td>Bullet</td>\n",
       "      <td>821</td>\n",
       "      <td>White</td>\n",
       "      <td>683</td>\n",
       "    </tr>\n",
       "    <tr>\n",
       "      <th>932</th>\n",
       "      <td>1-0</td>\n",
       "      <td>White</td>\n",
       "      <td>1624</td>\n",
       "      <td>Blitz</td>\n",
       "      <td>936</td>\n",
       "      <td>White</td>\n",
       "      <td>688</td>\n",
       "    </tr>\n",
       "    <tr>\n",
       "      <th>1205</th>\n",
       "      <td>1-0</td>\n",
       "      <td>White</td>\n",
       "      <td>1541</td>\n",
       "      <td>Blitz</td>\n",
       "      <td>838</td>\n",
       "      <td>White</td>\n",
       "      <td>703</td>\n",
       "    </tr>\n",
       "    <tr>\n",
       "      <th>631</th>\n",
       "      <td>0-1</td>\n",
       "      <td>White</td>\n",
       "      <td>1579</td>\n",
       "      <td>Blitz</td>\n",
       "      <td>831</td>\n",
       "      <td>Black</td>\n",
       "      <td>748</td>\n",
       "    </tr>\n",
       "    <tr>\n",
       "      <th>1499</th>\n",
       "      <td>1-0</td>\n",
       "      <td>Black</td>\n",
       "      <td>1773</td>\n",
       "      <td>Blitz</td>\n",
       "      <td>971</td>\n",
       "      <td>White</td>\n",
       "      <td>802</td>\n",
       "    </tr>\n",
       "  </tbody>\n",
       "</table>\n",
       "</div>"
      ],
      "text/plain": [
       "     Result My Colour  My Rating    Type  Opp. Rating Winner  \\\n",
       "1025    1-0     White       1504  Bullet          821  White   \n",
       "932     1-0     White       1624   Blitz          936  White   \n",
       "1205    1-0     White       1541   Blitz          838  White   \n",
       "631     0-1     White       1579   Blitz          831  Black   \n",
       "1499    1-0     Black       1773   Blitz          971  White   \n",
       "\n",
       "      Rating Difference  \n",
       "1025                683  \n",
       "932                 688  \n",
       "1205                703  \n",
       "631                 748  \n",
       "1499                802  "
      ]
     },
     "execution_count": 87,
     "metadata": {},
     "output_type": "execute_result"
    }
   ],
   "source": [
    "games.sort_values(by='Rating Difference').tail()"
   ]
  },
  {
   "cell_type": "markdown",
   "metadata": {},
   "source": [
    "Due to the very low number of draws, I will group losses and draws into a \"no win\" category."
   ]
  },
  {
   "cell_type": "code",
   "execution_count": 88,
   "metadata": {},
   "outputs": [],
   "source": [
    "games = games.loc[games['Result']!=\"1/2-1/2\"]"
   ]
  },
  {
   "cell_type": "code",
   "execution_count": 89,
   "metadata": {},
   "outputs": [],
   "source": [
    "games['Result'] = np.where(games['My Colour'] == games['Winner'], 'W', 'L')"
   ]
  },
  {
   "cell_type": "code",
   "execution_count": 90,
   "metadata": {},
   "outputs": [],
   "source": [
    "games = games.drop(['Winner','My Rating','Opp. Rating'], axis=1)"
   ]
  },
  {
   "cell_type": "code",
   "execution_count": 91,
   "metadata": {},
   "outputs": [],
   "source": [
    "games = pd.get_dummies(games, columns=[\"Type\"], prefix=[\"Type_is\"], drop_first=True)\n",
    "games = pd.get_dummies(games, columns=[\"My Colour\"], prefix=[\"Colour_is\"], drop_first=True)"
   ]
  },
  {
   "cell_type": "markdown",
   "metadata": {},
   "source": [
    "We are finally ready to train our classifiers. KNN first."
   ]
  },
  {
   "cell_type": "code",
   "execution_count": 95,
   "metadata": {},
   "outputs": [],
   "source": [
    "predictor_cols = games.drop(['Result'], axis=1).columns\n",
    "X_train, X_test, y_train, y_test = train_test_split(games[predictor_cols],games['Result'], test_size=0.4)"
   ]
  },
  {
   "cell_type": "code",
   "execution_count": 96,
   "metadata": {},
   "outputs": [
    {
     "data": {
      "text/plain": [
       "KNeighborsClassifier(n_neighbors=8)"
      ]
     },
     "execution_count": 96,
     "metadata": {},
     "output_type": "execute_result"
    }
   ],
   "source": [
    "knn = KNeighborsClassifier(n_neighbors=8)\n",
    "knn.fit(X_train, y_train)"
   ]
  },
  {
   "cell_type": "code",
   "execution_count": 97,
   "metadata": {},
   "outputs": [],
   "source": [
    "y_hat = knn.predict(X_test)"
   ]
  },
  {
   "cell_type": "code",
   "execution_count": 98,
   "metadata": {},
   "outputs": [
    {
     "name": "stdout",
     "output_type": "stream",
     "text": [
      "Acc: 0.5804274465691789\n",
      "Pre: 0.5838028174224158\n",
      "Rec: 0.5804274465691789\n",
      "F1:  0.5772230968118837\n"
     ]
    }
   ],
   "source": [
    "print(\"Acc: \" + str(skm.accuracy_score(y_true=y_test,y_pred=y_hat)))\n",
    "print(\"Pre: \" + str(skm.precision_score(y_true=y_test,y_pred=y_hat,average='weighted')))\n",
    "print(\"Rec: \" + str(skm.recall_score(y_true=y_test,y_pred=y_hat,average='weighted')))\n",
    "print(\"F1:  \" + str(skm.f1_score(y_true=y_test,y_pred=y_hat,average='weighted')))"
   ]
  },
  {
   "cell_type": "code",
   "execution_count": 99,
   "metadata": {},
   "outputs": [
    {
     "name": "stdout",
     "output_type": "stream",
     "text": [
      "Testing accuracy\n",
      "{'metric': 'euclidean', 'n_neighbors': 12, 'p': 1}\n",
      "0.5757990481822535\n",
      "\n",
      "Testing precision_macro\n",
      "{'metric': 'euclidean', 'n_neighbors': 12, 'p': 1}\n",
      "0.5792134858507195\n",
      "\n",
      "Testing recall_macro\n",
      "{'metric': 'euclidean', 'n_neighbors': 12, 'p': 1}\n",
      "0.5770171215220609\n",
      "\n",
      "Testing f1_macro\n",
      "{'metric': 'euclidean', 'n_neighbors': 12, 'p': 1}\n",
      "0.5730341376972905\n",
      "\n"
     ]
    }
   ],
   "source": [
    "results = pd.DataFrame({'n':[], 'p':[], 'distance':[], 'accuracy':[],\n",
    "                       'precision':[], 'recall':[], 'f1':[]})\n",
    "param_grid = {'n_neighbors': [3,5,6,8,10,12], 'p':[1,2,3,4,5], 'metric':('manhattan', 'euclidean', 'minkowski')}\n",
    "scores = ['accuracy', 'precision_macro', 'recall_macro', 'f1_macro']\n",
    "for score in scores:\n",
    "    print(f'Testing {score}')\n",
    "    knn = KNeighborsClassifier()\n",
    "    gridsearch = GridSearchCV(knn, param_grid, scoring=score)\n",
    "    res = gridsearch.fit(X_train, y_train)\n",
    "    print(gridsearch.best_params_)\n",
    "    print(gridsearch.best_score_)\n",
    "    print()"
   ]
  },
  {
   "cell_type": "code",
   "execution_count": 128,
   "metadata": {},
   "outputs": [],
   "source": [
    "knn = KNeighborsClassifier(n_neighbors=28, metric='manhattan')\n",
    "knn.fit(X_train, y_train)\n",
    "knn_preds = knn.predict(X_test)"
   ]
  },
  {
   "cell_type": "code",
   "execution_count": 129,
   "metadata": {},
   "outputs": [
    {
     "name": "stdout",
     "output_type": "stream",
     "text": [
      "Acc: 0.6152980877390326\n",
      "Pre: 0.6154713223949068\n",
      "Rec: 0.6152980877390326\n",
      "F1:  0.6149354924431953\n"
     ]
    }
   ],
   "source": [
    "print(\"Acc: \" + str(skm.accuracy_score(y_true=y_test,y_pred=knn_preds)))\n",
    "print(\"Pre: \" + str(skm.precision_score(y_true=y_test,y_pred=knn_preds,average='weighted')))\n",
    "print(\"Rec: \" + str(skm.recall_score(y_true=y_test,y_pred=knn_preds,average='weighted')))\n",
    "print(\"F1:  \" + str(skm.f1_score(y_true=y_test,y_pred=knn_preds,average='weighted')))"
   ]
  },
  {
   "cell_type": "code",
   "execution_count": 130,
   "metadata": {},
   "outputs": [
    {
     "data": {
      "text/plain": [
       "array([[258, 183],\n",
       "       [159, 289]])"
      ]
     },
     "execution_count": 130,
     "metadata": {},
     "output_type": "execute_result"
    }
   ],
   "source": [
    "knn_cfmat = skm.confusion_matrix(\n",
    "    y_true=y_test,\n",
    "    y_pred=knn_preds,)\n",
    "\n",
    "knn_cfmat"
   ]
  },
  {
   "cell_type": "code",
   "execution_count": 103,
   "metadata": {},
   "outputs": [
    {
     "name": "stdout",
     "output_type": "stream",
     "text": [
      "n=10\n",
      "Acc: 0.5838020247469067\n",
      "Pre: 0.5849571498265176\n",
      "Rec: 0.5838020247469067\n",
      "F1:  0.582943201518482\n",
      "\n",
      "n=11\n",
      "Acc: 0.5883014623172104\n",
      "Pre: 0.5886729120720033\n",
      "Rec: 0.5883014623172104\n",
      "F1:  0.5874083910604265\n",
      "\n",
      "n=12\n",
      "Acc: 0.592800899887514\n",
      "Pre: 0.5941387984811991\n",
      "Rec: 0.592800899887514\n",
      "F1:  0.5918747903722988\n",
      "\n",
      "n=13\n",
      "Acc: 0.5916760404949382\n",
      "Pre: 0.5922975341248488\n",
      "Rec: 0.5916760404949382\n",
      "F1:  0.5904629152510165\n",
      "\n",
      "n=14\n",
      "Acc: 0.592800899887514\n",
      "Pre: 0.5933072504280937\n",
      "Rec: 0.592800899887514\n",
      "F1:  0.5925462586962441\n",
      "\n",
      "n=15\n",
      "Acc: 0.5961754780652418\n",
      "Pre: 0.5972735250201698\n",
      "Rec: 0.5961754780652418\n",
      "F1:  0.5944245792852427\n",
      "\n",
      "n=16\n",
      "Acc: 0.595050618672666\n",
      "Pre: 0.595288736245679\n",
      "Rec: 0.595050618672666\n",
      "F1:  0.5949768275321123\n",
      "\n",
      "n=17\n",
      "Acc: 0.59392575928009\n",
      "Pre: 0.5949865248961537\n",
      "Rec: 0.59392575928009\n",
      "F1:  0.5921651061893386\n",
      "\n",
      "n=18\n",
      "Acc: 0.5984251968503937\n",
      "Pre: 0.5984185807002916\n",
      "Rec: 0.5984251968503937\n",
      "F1:  0.5984211315926039\n",
      "\n",
      "n=19\n",
      "Acc: 0.5995500562429696\n",
      "Pre: 0.6009672019344038\n",
      "Rec: 0.5995500562429696\n",
      "F1:  0.5975015156211786\n",
      "\n",
      "n=20\n",
      "Acc: 0.6062992125984252\n",
      "Pre: 0.6062778374898348\n",
      "Rec: 0.6062992125984252\n",
      "F1:  0.6062394172134488\n",
      "\n",
      "n=21\n",
      "Acc: 0.6062992125984252\n",
      "Pre: 0.6075117220187187\n",
      "Rec: 0.6062992125984252\n",
      "F1:  0.6046505342438602\n",
      "\n",
      "n=22\n",
      "Acc: 0.5995500562429696\n",
      "Pre: 0.5995255363955888\n",
      "Rec: 0.5995500562429696\n",
      "F1:  0.5994892357942508\n",
      "\n",
      "n=23\n",
      "Acc: 0.609673790776153\n",
      "Pre: 0.6116157081242037\n",
      "Rec: 0.609673790776153\n",
      "F1:  0.6073471564955527\n",
      "\n",
      "n=24\n",
      "Acc: 0.6051743532058492\n",
      "Pre: 0.6051526827419249\n",
      "Rec: 0.6051743532058492\n",
      "F1:  0.6051443731649121\n",
      "\n",
      "n=25\n",
      "Acc: 0.6119235095613048\n",
      "Pre: 0.6135213902345356\n",
      "Rec: 0.6119235095613048\n",
      "F1:  0.6100008159887307\n",
      "\n",
      "n=26\n",
      "Acc: 0.6107986501687289\n",
      "Pre: 0.6108120613090279\n",
      "Rec: 0.6107986501687289\n",
      "F1:  0.610653786142737\n",
      "\n",
      "n=27\n",
      "Acc: 0.6040494938132733\n",
      "Pre: 0.6061976827093453\n",
      "Rec: 0.6040494938132733\n",
      "F1:  0.6013286944829048\n",
      "\n",
      "n=28\n",
      "Acc: 0.6152980877390326\n",
      "Pre: 0.6154713223949068\n",
      "Rec: 0.6152980877390326\n",
      "F1:  0.6149354924431953\n",
      "\n",
      "n=29\n",
      "Acc: 0.6197975253093363\n",
      "Pre: 0.6228866011637701\n",
      "Rec: 0.6197975253093363\n",
      "F1:  0.6167362293572324\n",
      "\n",
      "n=30\n",
      "Acc: 0.6209223847019123\n",
      "Pre: 0.6213702925143406\n",
      "Rec: 0.6209223847019123\n",
      "F1:  0.6202879620705972\n",
      "\n",
      "n=31\n",
      "Acc: 0.6074240719910011\n",
      "Pre: 0.6100424737288054\n",
      "Rec: 0.6074240719910011\n",
      "F1:  0.6043429704078463\n",
      "\n",
      "n=32\n",
      "Acc: 0.6107986501687289\n",
      "Pre: 0.6113512416958357\n",
      "Rec: 0.6107986501687289\n",
      "F1:  0.6099543806199661\n",
      "\n",
      "n=33\n",
      "Acc: 0.6062992125984252\n",
      "Pre: 0.6085076310897141\n",
      "Rec: 0.6062992125984252\n",
      "F1:  0.603593872355161\n",
      "\n",
      "n=34\n",
      "Acc: 0.6119235095613048\n",
      "Pre: 0.6125224819330082\n",
      "Rec: 0.6119235095613048\n",
      "F1:  0.611040225106313\n",
      "\n",
      "n=35\n",
      "Acc: 0.6130483689538808\n",
      "Pre: 0.6154374762308205\n",
      "Rec: 0.6130483689538808\n",
      "F1:  0.6103894059719297\n",
      "\n",
      "n=36\n",
      "Acc: 0.6006749156355455\n",
      "Pre: 0.6013970098196513\n",
      "Rec: 0.6006749156355455\n",
      "F1:  0.5994885259341896\n",
      "\n",
      "n=37\n",
      "Acc: 0.6062992125984252\n",
      "Pre: 0.6085076310897141\n",
      "Rec: 0.6062992125984252\n",
      "F1:  0.603593872355161\n",
      "\n",
      "n=38\n",
      "Acc: 0.6040494938132733\n",
      "Pre: 0.6046905790911473\n",
      "Rec: 0.6040494938132733\n",
      "F1:  0.6030152947299499\n",
      "\n",
      "n=39\n",
      "Acc: 0.595050618672666\n",
      "Pre: 0.5970867619033551\n",
      "Rec: 0.595050618672666\n",
      "F1:  0.5921129693499056\n",
      "\n"
     ]
    }
   ],
   "source": [
    "knn_df = pd.DataFrame({'n':[], 'Accuracy':[],'Precision':[], 'Recall':[], 'F1':[]})\n",
    "for i in range(10,40):\n",
    "    print(f'n={i}')\n",
    "    knn = KNeighborsClassifier(n_neighbors=i, metric='manhattan')\n",
    "    res = knn.fit(X_train, y_train)\n",
    "    knn_preds = knn.predict(X_test)\n",
    "    acc = skm.accuracy_score(y_true=y_test,y_pred=knn_preds)\n",
    "    pre = skm.precision_score(y_true=y_test,y_pred=knn_preds,average='weighted')\n",
    "    rec = skm.recall_score(y_true=y_test,y_pred=knn_preds,average='weighted')\n",
    "    f1 = skm.f1_score(y_true=y_test,y_pred=knn_preds,average='weighted')\n",
    "    knn_df = knn_df.append({'n':i, 'Accuracy':acc,'Precision':pre, 'Recall':rec, 'F1':f1}, ignore_index=True)\n",
    "    print(\"Acc: \" + str(acc))\n",
    "    print(\"Pre: \" + str(pre))\n",
    "    print(\"Rec: \" + str(rec))\n",
    "    print(\"F1:  \" + str(f1))\n",
    "    print()\n"
   ]
  },
  {
   "cell_type": "code",
   "execution_count": 104,
   "metadata": {},
   "outputs": [
    {
     "data": {
      "image/png": "[encoded data removed]",
      "text/plain": [
       "<Figure size 864x288 with 1 Axes>"
      ]
     },
     "metadata": {},
     "output_type": "display_data"
    }
   ],
   "source": [
    "fig = plt.figure()\n",
    "sns.lineplot(x=\"n\", y=\"Accuracy\", data=knn_df, label=\"Accuracy\")\n",
    "sns.lineplot(x=\"n\", y=\"Precision\", data=knn_df, label=\"Precision\")\n",
    "sns.lineplot(x=\"n\", y=\"Recall\", data=knn_df, label=\"Recall\")\n",
    "sns.lineplot(x=\"n\", y=\"F1\", data=knn_df, label=\"F1\")\n",
    "plt.title('K Nearest Neighbors Scores for a Range of $n$ Values')\n",
    "plt.ylabel('Score')\n",
    "plt.xlabel('$n$')\n",
    "fig.set_size_inches(12,4)\n",
    "plt.show()"
   ]
  },
  {
   "cell_type": "markdown",
   "metadata": {},
   "source": [
    "Naive Bayes"
   ]
  },
  {
   "cell_type": "code",
   "execution_count": 105,
   "metadata": {},
   "outputs": [
    {
     "name": "stdout",
     "output_type": "stream",
     "text": [
      "Testing accuracy\n",
      "Fitting 5 folds for each of 100 candidates, totalling 500 fits\n"
     ]
    },
    {
     "name": "stderr",
     "output_type": "stream",
     "text": [
      "[Parallel(n_jobs=1)]: Using backend SequentialBackend with 1 concurrent workers.\n",
      "[Parallel(n_jobs=1)]: Done 500 out of 500 | elapsed:    3.3s finished\n",
      "[Parallel(n_jobs=1)]: Using backend SequentialBackend with 1 concurrent workers.\n"
     ]
    },
    {
     "name": "stdout",
     "output_type": "stream",
     "text": [
      "{'var_smoothing': 1.4174741629268048e-05}\n",
      "0.6185857903184929\n",
      "Testing precision_macro\n",
      "Fitting 5 folds for each of 100 candidates, totalling 500 fits\n"
     ]
    },
    {
     "name": "stderr",
     "output_type": "stream",
     "text": [
      "[Parallel(n_jobs=1)]: Done 500 out of 500 | elapsed:    4.0s finished\n",
      "[Parallel(n_jobs=1)]: Using backend SequentialBackend with 1 concurrent workers.\n"
     ]
    },
    {
     "name": "stdout",
     "output_type": "stream",
     "text": [
      "{'var_smoothing': 1.0}\n",
      "0.6288756143465447\n",
      "Testing recall_macro\n",
      "Fitting 5 folds for each of 100 candidates, totalling 500 fits\n"
     ]
    },
    {
     "name": "stderr",
     "output_type": "stream",
     "text": [
      "[Parallel(n_jobs=1)]: Done 500 out of 500 | elapsed:    4.1s finished\n",
      "[Parallel(n_jobs=1)]: Using backend SequentialBackend with 1 concurrent workers.\n"
     ]
    },
    {
     "name": "stdout",
     "output_type": "stream",
     "text": [
      "{'var_smoothing': 1.4174741629268048e-05}\n",
      "0.6162390028106237\n",
      "Testing f1_macro\n",
      "Fitting 5 folds for each of 100 candidates, totalling 500 fits\n",
      "{'var_smoothing': 1.4174741629268048e-05}\n",
      "0.6093919231445575\n"
     ]
    },
    {
     "name": "stderr",
     "output_type": "stream",
     "text": [
      "[Parallel(n_jobs=1)]: Done 500 out of 500 | elapsed:    4.1s finished\n"
     ]
    }
   ],
   "source": [
    "for score in scores:\n",
    "    print(f'Testing {score}')\n",
    "    gnb = GaussianNB()\n",
    "    params_NB = {'var_smoothing': np.logspace(0,-20, num=100)}\n",
    "    gs_NB = GridSearchCV(estimator=gnb, \n",
    "                     param_grid=params_NB, \n",
    "                     verbose=1, \n",
    "                     scoring=score) \n",
    "    gs_NB.fit(X_train, y_train)\n",
    "    print(gs_NB.best_params_)\n",
    "    print(gs_NB.best_score_)"
   ]
  },
  {
   "cell_type": "code",
   "execution_count": 106,
   "metadata": {},
   "outputs": [
    {
     "data": {
      "text/plain": [
       "{'var_smoothing': 1.4174741629268048e-05}"
      ]
     },
     "execution_count": 106,
     "metadata": {},
     "output_type": "execute_result"
    }
   ],
   "source": [
    "params = gs_NB.best_params_\n",
    "params"
   ]
  },
  {
   "cell_type": "code",
   "execution_count": 107,
   "metadata": {},
   "outputs": [],
   "source": [
    "gnb = GaussianNB(var_smoothing = params['var_smoothing'])\n",
    "gnb.fit(X_train, y_train)\n",
    "gnb_preds = gnb.predict(X_test)"
   ]
  },
  {
   "cell_type": "code",
   "execution_count": 108,
   "metadata": {},
   "outputs": [
    {
     "name": "stdout",
     "output_type": "stream",
     "text": [
      "Acc: 0.6197975253093363\n",
      "Pre: 0.6328361288991211\n",
      "Rec: 0.6197975253093363\n",
      "F1:  0.6090263107355484\n"
     ]
    }
   ],
   "source": [
    "print(\"Acc: \" + str(skm.accuracy_score(y_true=y_test,y_pred=gnb_preds)))\n",
    "print(\"Pre: \" + str(skm.precision_score(y_true=y_test,y_pred=gnb_preds,average='weighted')))\n",
    "print(\"Rec: \" + str(skm.recall_score(y_true=y_test,y_pred=gnb_preds,average='weighted')))\n",
    "print(\"F1:  \" + str(skm.f1_score(y_true=y_test,y_pred=gnb_preds,average='weighted')))"
   ]
  },
  {
   "cell_type": "code",
   "execution_count": 109,
   "metadata": {},
   "outputs": [
    {
     "data": {
      "text/plain": [
       "array([[200, 241],\n",
       "       [ 97, 351]])"
      ]
     },
     "execution_count": 109,
     "metadata": {},
     "output_type": "execute_result"
    }
   ],
   "source": [
    "knn_cfmat = skm.confusion_matrix(\n",
    "    y_true=y_test,\n",
    "    y_pred=gnb_preds)\n",
    "\n",
    "knn_cfmat"
   ]
  },
  {
   "cell_type": "code",
   "execution_count": 110,
   "metadata": {},
   "outputs": [],
   "source": [
    "gnb_df = pd.DataFrame({'n':[], 'Accuracy':[],'Precision':[], 'Recall':[], 'F1':[]})\n",
    "for i in np.logspace(0,-20, num=100):\n",
    "    gnb = GaussianNB(var_smoothing=i)\n",
    "    res = gnb.fit(X_train, y_train)\n",
    "    y_hat = gnb.predict(X_test)\n",
    "    acc = skm.accuracy_score(y_true=y_test,y_pred=y_hat)\n",
    "    pre = skm.precision_score(y_true=y_test,y_pred=y_hat,average='weighted')\n",
    "    rec = skm.recall_score(y_true=y_test,y_pred=y_hat,average='weighted')\n",
    "    f1 = skm.f1_score(y_true=y_test,y_pred=y_hat,average='weighted')\n",
    "    gnb_df = gnb_df.append({'n':i, 'Accuracy':acc,'Precision':pre, 'Recall':rec, 'F1':f1}, ignore_index=True)\n"
   ]
  },
  {
   "cell_type": "code",
   "execution_count": 111,
   "metadata": {},
   "outputs": [
    {
     "data": {
      "image/png": "[encoded data removed]",
      "text/plain": [
       "<Figure size 864x288 with 1 Axes>"
      ]
     },
     "metadata": {},
     "output_type": "display_data"
    }
   ],
   "source": [
    "fig = plt.figure()\n",
    "sns.lineplot(x=\"n\", y=\"Accuracy\", data=gnb_df, label=\"Accuracy\")\n",
    "sns.lineplot(x=\"n\", y=\"Precision\", data=gnb_df, label=\"Precision\")\n",
    "sns.lineplot(x=\"n\", y=\"Recall\", data=gnb_df, label=\"Recall\")\n",
    "sns.lineplot(x=\"n\", y=\"F1\", data=gnb_df, label=\"F1\")\n",
    "plt.title('Gaussian Naive Bayes Scores for a Range of $n$ Values')\n",
    "plt.ylabel('Score')\n",
    "plt.xlabel('$\\log(n)$')\n",
    "plt.xscale(\"log\")\n",
    "fig.set_size_inches(12,4)\n",
    "plt.show()"
   ]
  },
  {
   "cell_type": "markdown",
   "metadata": {},
   "source": [
    "Gradient Boosting"
   ]
  },
  {
   "cell_type": "code",
   "execution_count": 112,
   "metadata": {},
   "outputs": [
    {
     "data": {
      "text/plain": [
       "GradientBoostingClassifier(learning_rate=1.0, max_depth=1, random_state=0)"
      ]
     },
     "execution_count": 112,
     "metadata": {},
     "output_type": "execute_result"
    }
   ],
   "source": [
    "clf = GradientBoostingClassifier(n_estimators=100, learning_rate=1.0,\n",
    "                                 max_depth=1, random_state=0)\n",
    "clf.fit(X_train, y_train)"
   ]
  },
  {
   "cell_type": "code",
   "execution_count": 113,
   "metadata": {},
   "outputs": [],
   "source": [
    "GBC_pred = clf.predict(X_test)"
   ]
  },
  {
   "cell_type": "code",
   "execution_count": 114,
   "metadata": {},
   "outputs": [
    {
     "name": "stdout",
     "output_type": "stream",
     "text": [
      "Acc: 0.5916760404949382\n",
      "Pre: 0.5930936715102393\n",
      "Rec: 0.5916760404949382\n",
      "F1:  0.5893833736813218\n"
     ]
    }
   ],
   "source": [
    "print(\"Acc: \" + str(skm.accuracy_score(y_true=y_test,y_pred=GBC_pred)))\n",
    "print(\"Pre: \" + str(skm.precision_score(y_true=y_test,y_pred=GBC_pred,average='weighted')))\n",
    "print(\"Rec: \" + str(skm.recall_score(y_true=y_test,y_pred=GBC_pred,average='weighted')))\n",
    "print(\"F1:  \" + str(skm.f1_score(y_true=y_test,y_pred=GBC_pred,average='weighted')))"
   ]
  },
  {
   "cell_type": "code",
   "execution_count": 115,
   "metadata": {},
   "outputs": [
    {
     "data": {
      "text/plain": [
       "GridSearchCV(estimator=GradientBoostingClassifier(),\n",
       "             param_grid={'max_depth': range(5, 16, 2),\n",
       "                         'min_samples_split': range(200, 1001, 200),\n",
       "                         'n_estimators': range(20, 100, 10)})"
      ]
     },
     "execution_count": 115,
     "metadata": {},
     "output_type": "execute_result"
    }
   ],
   "source": [
    "params = {'n_estimators':range(20,100,10), 'max_depth':range(5,16,2), 'min_samples_split':range(200,1001,200)}\n",
    "clf = GradientBoostingClassifier()\n",
    "gridsearch = GridSearchCV(clf, params)\n",
    "gridsearch.fit(X_train, y_train)"
   ]
  },
  {
   "cell_type": "code",
   "execution_count": 116,
   "metadata": {},
   "outputs": [
    {
     "data": {
      "text/plain": [
       "0.6140885922671848"
      ]
     },
     "execution_count": 116,
     "metadata": {},
     "output_type": "execute_result"
    }
   ],
   "source": [
    "gridsearch.best_score_"
   ]
  },
  {
   "cell_type": "code",
   "execution_count": 117,
   "metadata": {},
   "outputs": [
    {
     "data": {
      "text/plain": [
       "{'max_depth': 5, 'min_samples_split': 1000, 'n_estimators': 20}"
      ]
     },
     "execution_count": 117,
     "metadata": {},
     "output_type": "execute_result"
    }
   ],
   "source": [
    "gridsearch.best_params_"
   ]
  },
  {
   "cell_type": "code",
   "execution_count": 126,
   "metadata": {},
   "outputs": [],
   "source": [
    "clf = GradientBoostingClassifier(max_depth=5, min_samples_split=1000, n_estimators=20)\n",
    "clf.fit(X_train, y_train)\n",
    "clf_preds = clf.predict(X_test)"
   ]
  },
  {
   "cell_type": "code",
   "execution_count": 127,
   "metadata": {},
   "outputs": [
    {
     "name": "stdout",
     "output_type": "stream",
     "text": [
      "Acc: 0.6130483689538808\n",
      "Pre: 0.6409804632161565\n",
      "Rec: 0.6130483689538808\n",
      "F1:  0.5911685822300177\n"
     ]
    }
   ],
   "source": [
    "print(\"Acc: \" + str(skm.accuracy_score(y_true=y_test,y_pred=clf_preds)))\n",
    "print(\"Pre: \" + str(skm.precision_score(y_true=y_test,y_pred=clf_preds,average='weighted')))\n",
    "print(\"Rec: \" + str(skm.recall_score(y_true=y_test,y_pred=clf_preds,average='weighted')))\n",
    "print(\"F1:  \" + str(skm.f1_score(y_true=y_test,y_pred=clf_preds,average='weighted')))"
   ]
  },
  {
   "cell_type": "code",
   "execution_count": 131,
   "metadata": {},
   "outputs": [],
   "source": [
    "pred_list = [knn_preds, gnb_preds, clf_preds]\n",
    "accuracy = [round(skm.accuracy_score(y_true=y_test,y_pred=x),4) for x in pred_list]\n",
    "precision = [round(skm.precision_score(y_true=y_test,y_pred=x,average='weighted'),4) for x in pred_list]\n",
    "recall = [round(skm.recall_score(y_true=y_test,y_pred=x,average='weighted'),4) for x in pred_list]\n",
    "f1 = [round(skm.f1_score(y_true=y_test,y_pred=x,average='weighted'),4) for x in pred_list]"
   ]
  },
  {
   "cell_type": "code",
   "execution_count": 132,
   "metadata": {},
   "outputs": [],
   "source": [
    "models = ['K Nearest Neighbors', 'GaussianNB', 'Gradient Boosting']\n",
    "all_results = pd.DataFrame({'Model':models, 'Accuracy':accuracy, 'Precision':precision,\n",
    "                           'Recall':recall, 'F1':f1})"
   ]
  },
  {
   "cell_type": "code",
   "execution_count": 133,
   "metadata": {},
   "outputs": [
    {
     "data": {
      "text/html": [
       "<div>\n",
       "<style scoped>\n",
       "    .dataframe tbody tr th:only-of-type {\n",
       "        vertical-align: middle;\n",
       "    }\n",
       "\n",
       "    .dataframe tbody tr th {\n",
       "        vertical-align: top;\n",
       "    }\n",
       "\n",
       "    .dataframe thead th {\n",
       "        text-align: right;\n",
       "    }\n",
       "</style>\n",
       "<table border=\"1\" class=\"dataframe\">\n",
       "  <thead>\n",
       "    <tr style=\"text-align: right;\">\n",
       "      <th></th>\n",
       "      <th>Model</th>\n",
       "      <th>Accuracy</th>\n",
       "      <th>Precision</th>\n",
       "      <th>Recall</th>\n",
       "      <th>F1</th>\n",
       "    </tr>\n",
       "  </thead>\n",
       "  <tbody>\n",
       "    <tr>\n",
       "      <th>0</th>\n",
       "      <td>K Nearest Neighbors</td>\n",
       "      <td>0.6153</td>\n",
       "      <td>0.6155</td>\n",
       "      <td>0.6153</td>\n",
       "      <td>0.6149</td>\n",
       "    </tr>\n",
       "    <tr>\n",
       "      <th>1</th>\n",
       "      <td>GaussianNB</td>\n",
       "      <td>0.6198</td>\n",
       "      <td>0.6328</td>\n",
       "      <td>0.6198</td>\n",
       "      <td>0.6090</td>\n",
       "    </tr>\n",
       "    <tr>\n",
       "      <th>2</th>\n",
       "      <td>Gradient Boosting</td>\n",
       "      <td>0.6130</td>\n",
       "      <td>0.6410</td>\n",
       "      <td>0.6130</td>\n",
       "      <td>0.5912</td>\n",
       "    </tr>\n",
       "  </tbody>\n",
       "</table>\n",
       "</div>"
      ],
      "text/plain": [
       "                 Model  Accuracy  Precision  Recall      F1\n",
       "0  K Nearest Neighbors    0.6153     0.6155  0.6153  0.6149\n",
       "1           GaussianNB    0.6198     0.6328  0.6198  0.6090\n",
       "2    Gradient Boosting    0.6130     0.6410  0.6130  0.5912"
      ]
     },
     "execution_count": 133,
     "metadata": {},
     "output_type": "execute_result"
    }
   ],
   "source": [
    "all_results.sort_values(by=\"F1\", ascending=False)"
   ]
  },
  {
   "cell_type": "code",
   "execution_count": 123,
   "metadata": {},
   "outputs": [],
   "source": [
    "gdb_df = pd.DataFrame({'n_estimators':[], 'Accuracy':[],'Precision':[], 'Recall':[], 'F1':[]})\n",
    "for i in range(5,100,5):\n",
    "    gdb = GradientBoostingClassifier(n_estimators=i, max_depth=5, min_samples_split=1000)\n",
    "    res = gdb.fit(X_train, y_train)\n",
    "    y_hat = gdb.predict(X_test)\n",
    "    acc = skm.accuracy_score(y_true=y_test,y_pred=y_hat)\n",
    "    pre = skm.precision_score(y_true=y_test,y_pred=y_hat,average='weighted')\n",
    "    rec = skm.recall_score(y_true=y_test,y_pred=y_hat,average='weighted')\n",
    "    f1 = skm.f1_score(y_true=y_test,y_pred=y_hat,average='weighted')\n",
    "    gdb_df = gdb_df.append({'n_estimators':i, 'Accuracy':acc,'Precision':pre, 'Recall':rec, 'F1':f1}, ignore_index=True)\n"
   ]
  },
  {
   "cell_type": "code",
   "execution_count": 124,
   "metadata": {},
   "outputs": [
    {
     "data": {
      "text/html": [
       "<div>\n",
       "<style scoped>\n",
       "    .dataframe tbody tr th:only-of-type {\n",
       "        vertical-align: middle;\n",
       "    }\n",
       "\n",
       "    .dataframe tbody tr th {\n",
       "        vertical-align: top;\n",
       "    }\n",
       "\n",
       "    .dataframe thead th {\n",
       "        text-align: right;\n",
       "    }\n",
       "</style>\n",
       "<table border=\"1\" class=\"dataframe\">\n",
       "  <thead>\n",
       "    <tr style=\"text-align: right;\">\n",
       "      <th></th>\n",
       "      <th>n_estimators</th>\n",
       "      <th>Accuracy</th>\n",
       "      <th>Precision</th>\n",
       "      <th>Recall</th>\n",
       "      <th>F1</th>\n",
       "    </tr>\n",
       "  </thead>\n",
       "  <tbody>\n",
       "    <tr>\n",
       "      <th>0</th>\n",
       "      <td>5.0</td>\n",
       "      <td>0.615298</td>\n",
       "      <td>0.645329</td>\n",
       "      <td>0.615298</td>\n",
       "      <td>0.592639</td>\n",
       "    </tr>\n",
       "    <tr>\n",
       "      <th>1</th>\n",
       "      <td>10.0</td>\n",
       "      <td>0.613048</td>\n",
       "      <td>0.640980</td>\n",
       "      <td>0.613048</td>\n",
       "      <td>0.591169</td>\n",
       "    </tr>\n",
       "    <tr>\n",
       "      <th>2</th>\n",
       "      <td>15.0</td>\n",
       "      <td>0.613048</td>\n",
       "      <td>0.640980</td>\n",
       "      <td>0.613048</td>\n",
       "      <td>0.591169</td>\n",
       "    </tr>\n",
       "    <tr>\n",
       "      <th>3</th>\n",
       "      <td>20.0</td>\n",
       "      <td>0.613048</td>\n",
       "      <td>0.640980</td>\n",
       "      <td>0.613048</td>\n",
       "      <td>0.591169</td>\n",
       "    </tr>\n",
       "    <tr>\n",
       "      <th>4</th>\n",
       "      <td>25.0</td>\n",
       "      <td>0.613048</td>\n",
       "      <td>0.640980</td>\n",
       "      <td>0.613048</td>\n",
       "      <td>0.591169</td>\n",
       "    </tr>\n",
       "    <tr>\n",
       "      <th>5</th>\n",
       "      <td>30.0</td>\n",
       "      <td>0.613048</td>\n",
       "      <td>0.640980</td>\n",
       "      <td>0.613048</td>\n",
       "      <td>0.591169</td>\n",
       "    </tr>\n",
       "    <tr>\n",
       "      <th>6</th>\n",
       "      <td>35.0</td>\n",
       "      <td>0.613048</td>\n",
       "      <td>0.640980</td>\n",
       "      <td>0.613048</td>\n",
       "      <td>0.591169</td>\n",
       "    </tr>\n",
       "    <tr>\n",
       "      <th>7</th>\n",
       "      <td>40.0</td>\n",
       "      <td>0.613048</td>\n",
       "      <td>0.640980</td>\n",
       "      <td>0.613048</td>\n",
       "      <td>0.591169</td>\n",
       "    </tr>\n",
       "    <tr>\n",
       "      <th>8</th>\n",
       "      <td>45.0</td>\n",
       "      <td>0.613048</td>\n",
       "      <td>0.640980</td>\n",
       "      <td>0.613048</td>\n",
       "      <td>0.591169</td>\n",
       "    </tr>\n",
       "    <tr>\n",
       "      <th>9</th>\n",
       "      <td>50.0</td>\n",
       "      <td>0.609674</td>\n",
       "      <td>0.634355</td>\n",
       "      <td>0.609674</td>\n",
       "      <td>0.589161</td>\n",
       "    </tr>\n",
       "    <tr>\n",
       "      <th>10</th>\n",
       "      <td>55.0</td>\n",
       "      <td>0.609674</td>\n",
       "      <td>0.634355</td>\n",
       "      <td>0.609674</td>\n",
       "      <td>0.589161</td>\n",
       "    </tr>\n",
       "    <tr>\n",
       "      <th>11</th>\n",
       "      <td>60.0</td>\n",
       "      <td>0.609674</td>\n",
       "      <td>0.634355</td>\n",
       "      <td>0.609674</td>\n",
       "      <td>0.589161</td>\n",
       "    </tr>\n",
       "    <tr>\n",
       "      <th>12</th>\n",
       "      <td>65.0</td>\n",
       "      <td>0.608549</td>\n",
       "      <td>0.633276</td>\n",
       "      <td>0.608549</td>\n",
       "      <td>0.587758</td>\n",
       "    </tr>\n",
       "    <tr>\n",
       "      <th>13</th>\n",
       "      <td>70.0</td>\n",
       "      <td>0.608549</td>\n",
       "      <td>0.633276</td>\n",
       "      <td>0.608549</td>\n",
       "      <td>0.587758</td>\n",
       "    </tr>\n",
       "    <tr>\n",
       "      <th>14</th>\n",
       "      <td>75.0</td>\n",
       "      <td>0.606299</td>\n",
       "      <td>0.629229</td>\n",
       "      <td>0.606299</td>\n",
       "      <td>0.586262</td>\n",
       "    </tr>\n",
       "    <tr>\n",
       "      <th>15</th>\n",
       "      <td>80.0</td>\n",
       "      <td>0.606299</td>\n",
       "      <td>0.629229</td>\n",
       "      <td>0.606299</td>\n",
       "      <td>0.586262</td>\n",
       "    </tr>\n",
       "    <tr>\n",
       "      <th>16</th>\n",
       "      <td>85.0</td>\n",
       "      <td>0.606299</td>\n",
       "      <td>0.629229</td>\n",
       "      <td>0.606299</td>\n",
       "      <td>0.586262</td>\n",
       "    </tr>\n",
       "    <tr>\n",
       "      <th>17</th>\n",
       "      <td>90.0</td>\n",
       "      <td>0.606299</td>\n",
       "      <td>0.629229</td>\n",
       "      <td>0.606299</td>\n",
       "      <td>0.586262</td>\n",
       "    </tr>\n",
       "    <tr>\n",
       "      <th>18</th>\n",
       "      <td>95.0</td>\n",
       "      <td>0.606299</td>\n",
       "      <td>0.624234</td>\n",
       "      <td>0.606299</td>\n",
       "      <td>0.589932</td>\n",
       "    </tr>\n",
       "  </tbody>\n",
       "</table>\n",
       "</div>"
      ],
      "text/plain": [
       "    n_estimators  Accuracy  Precision    Recall        F1\n",
       "0            5.0  0.615298   0.645329  0.615298  0.592639\n",
       "1           10.0  0.613048   0.640980  0.613048  0.591169\n",
       "2           15.0  0.613048   0.640980  0.613048  0.591169\n",
       "3           20.0  0.613048   0.640980  0.613048  0.591169\n",
       "4           25.0  0.613048   0.640980  0.613048  0.591169\n",
       "5           30.0  0.613048   0.640980  0.613048  0.591169\n",
       "6           35.0  0.613048   0.640980  0.613048  0.591169\n",
       "7           40.0  0.613048   0.640980  0.613048  0.591169\n",
       "8           45.0  0.613048   0.640980  0.613048  0.591169\n",
       "9           50.0  0.609674   0.634355  0.609674  0.589161\n",
       "10          55.0  0.609674   0.634355  0.609674  0.589161\n",
       "11          60.0  0.609674   0.634355  0.609674  0.589161\n",
       "12          65.0  0.608549   0.633276  0.608549  0.587758\n",
       "13          70.0  0.608549   0.633276  0.608549  0.587758\n",
       "14          75.0  0.606299   0.629229  0.606299  0.586262\n",
       "15          80.0  0.606299   0.629229  0.606299  0.586262\n",
       "16          85.0  0.606299   0.629229  0.606299  0.586262\n",
       "17          90.0  0.606299   0.629229  0.606299  0.586262\n",
       "18          95.0  0.606299   0.624234  0.606299  0.589932"
      ]
     },
     "execution_count": 124,
     "metadata": {},
     "output_type": "execute_result"
    }
   ],
   "source": [
    "gdb_df"
   ]
  },
  {
   "cell_type": "code",
   "execution_count": 125,
   "metadata": {},
   "outputs": [
    {
     "data": {
      "image/png": "[encoded data removed]",
      "text/plain": [
       "<Figure size 864x288 with 1 Axes>"
      ]
     },
     "metadata": {},
     "output_type": "display_data"
    }
   ],
   "source": [
    "fig = plt.figure()\n",
    "sns.lineplot(x=\"n_estimators\", y=\"Accuracy\", data=gdb_df, label=\"Accuracy\")\n",
    "sns.lineplot(x=\"n_estimators\", y=\"Precision\", data=gdb_df, label=\"Precision\")\n",
    "sns.lineplot(x=\"n_estimators\", y=\"Recall\", data=gdb_df, label=\"Recall\")\n",
    "sns.lineplot(x=\"n_estimators\", y=\"F1\", data=gdb_df, label=\"F1\")\n",
    "plt.title('Gradient Boosting Scores for a Range of $n$ Values')\n",
    "plt.ylabel('Score')\n",
    "plt.xlabel('$n$')\n",
    "fig.set_size_inches(12,4)\n",
    "plt.show()"
   ]
  },
  {
   "cell_type": "code",
   "execution_count": null,
   "metadata": {},
   "outputs": [],
   "source": []
  }
 ],
 "metadata": {
  "kernelspec": {
   "display_name": "Python 3",
   "language": "python",
   "name": "python3"
  },
  "language_info": {
   "codemirror_mode": {
    "name": "ipython",
    "version": 3
   },
   "file_extension": ".py",
   "mimetype": "text/x-python",
   "name": "python",
   "nbconvert_exporter": "python",
   "pygments_lexer": "ipython3",
   "version": "3.8.5"
  }
 },
 "nbformat": 4,
 "nbformat_minor": 4
}
